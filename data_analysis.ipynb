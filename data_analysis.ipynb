{
 "cells": [
  {
   "cell_type": "markdown",
   "metadata": {},
   "source": [
    "# CSC 2621 Final Project\n",
    "**Authors:**  Thomas Benzshawel, Lucas Gral, Ben Paulson<Br/>\n",
    "Section 131\n",
    "\n",
    "[Associated GitHub Repository](https://github.com/ThomasBenzshawel/dasci-final)\n",
    "\n",
    "[Associated Presentation Link](https://msoe365-my.sharepoint.com/:p:/g/personal/benzshawelt_msoe_edu/EWkYlq08PrZJo2wi0vCZnZ8B92eyS7vgOyK56dRwD4Ze7g?e=A6op41)"
   ],
   "id": "4d3605444f5599c6"
  },
  {
   "cell_type": "markdown",
   "metadata": {},
   "source": [
    "# Introduction\n",
    "\n",
    "Lab about determining sentiment of Steam reviews.\n",
    "\n",
    "TODO TODO TODOTODO TODO TODOTODO TODO TODOTODO TODO TODOTODO TODO TODOTODO TODO TODOTODO TODO TODOTODO TODO TODOTODO TODO TODOTODO TODO TODOTODO TODO TODOTODO TODO TODOTODO TODO TODOTODO TODO TODOTODO TODO TODO"
   ],
   "id": "8c747435c573f857"
  },
  {
   "cell_type": "code",
   "execution_count": 1,
   "id": "initial_id",
   "metadata": {
    "ExecuteTime": {
     "end_time": "2023-11-30T19:53:18.615626600Z",
     "start_time": "2023-11-30T19:53:10.501586900Z"
    }
   },
   "outputs": [
    {
     "name": "stderr",
     "output_type": "stream",
     "text": [
      "[nltk_data] Downloading package stopwords to\n",
      "[nltk_data]     C:\\Users\\benzshawelt\\AppData\\Roaming\\nltk_data...\n",
      "[nltk_data]   Package stopwords is already up-to-date!\n",
      "[nltk_data] Downloading package punkt to\n",
      "[nltk_data]     C:\\Users\\benzshawelt\\AppData\\Roaming\\nltk_data...\n",
      "[nltk_data]   Package punkt is already up-to-date!\n"
     ]
    }
   ],
   "source": [
    "import pandas as pd\n",
    "from nltk.corpus import stopwords\n",
    "from nltk.tokenize import word_tokenize\n",
    "import nltk\n",
    "import matplotlib.pyplot as plt\n",
    "nltk.download('stopwords')\n",
    "nltk.download('punkt')\n",
    "from collections import defaultdict\n",
    "from sklearn.model_selection import train_test_split\n",
    "import torch\n",
    "from transformers import BertModel, BertTokenizer\n",
    "import os\n",
    "import csv"
   ]
  },
  {
   "cell_type": "markdown",
   "id": "3e0b557cb1565aba",
   "metadata": {},
   "source": [
    "# Part 1: Data Exploration"
   ]
  },
  {
   "cell_type": "markdown",
   "id": "704f82042fbf36bd",
   "metadata": {},
   "source": [
    "### Part 1a: Data Importing & Description\n",
    "The main dataset that will be used throughout this analysis is https://www.kaggle.com/datasets/andrewmvd/steam-reviews/code. This dataset contains 6.4 million reviews from the Steam platform; users are only able to review the game if they have bought and played the game. The reviews are from 2014 to 2017. The dataset contains the following columns: `app_id`, `app_name`, `review_text`, `review_score`, `review_votes`. The definition for each column is as follows:\n",
    "* **app_id**: Unique ID of the game\n",
    "* **app_name**: Name of the game\n",
    "* **review_text**: Text of the review\n",
    "* **review_score**: Score of the review (1 is positive, -1 is negative)\n",
    "* **review_votes**: Number of votes the review received for 'helpfulness'\n",
    "\n",
    "In this dataset, there are 6,417,106 reviews, reviewing 9,363 unique games. The average review score is 0.6395, meaning the average review of these 9,363 games is a positive review. The average review vote score is 0.147, meaning the community does not identify most reviews as being helpful by at least one person. Also, the average number of characters per review is 304, with the smallest being 1 and the largest being 8,873. Also, interestingly, there are over 8,000 reviews which are single-character, with \".\" being the most popular at 4,885 reviews.\n",
    "\n",
    "In this dataset, there are 631 games with ratings of 100% based on the reviews given (which is a subset of the total reviews on Steam)\n",
    "\n",
    "The datatypes of each of the different columns is as follows:\n",
    "|id|Column|Dtype|\n",
    "|---|---|---|\n",
    " 0|app_id|int64 \n",
    " 1|app_name|object\n",
    " 2|review_text|object\n",
    " 3|review_score|int64 \n",
    " 4|review_votes|int64 \n",
    "\n",
    "**memory usage:** 244.8+ MB"
   ]
  },
  {
   "cell_type": "code",
   "execution_count": 2,
   "metadata": {
    "ExecuteTime": {
     "end_time": "2023-11-30T19:53:37.630105700Z",
     "start_time": "2023-11-30T19:53:18.883807600Z"
    }
   },
   "outputs": [
    {
     "data": {
      "text/plain": "   app_id        app_name                                        review_text  \\\n0      10  Counter-Strike                                    Ruined my life.   \n1      10  Counter-Strike  This will be more of a ''my experience with th...   \n2      10  Counter-Strike                      This game saved my virginity.   \n3      10  Counter-Strike  • Do you like original games? • Do you like ga...   \n4      10  Counter-Strike           Easy to learn, hard to master.             \n\n   review_score  review_votes  \n0             1             0  \n1             1             1  \n2             1             0  \n3             1             0  \n4             1             1  ",
      "text/html": "<div>\n<style scoped>\n    .dataframe tbody tr th:only-of-type {\n        vertical-align: middle;\n    }\n\n    .dataframe tbody tr th {\n        vertical-align: top;\n    }\n\n    .dataframe thead th {\n        text-align: right;\n    }\n</style>\n<table border=\"1\" class=\"dataframe\">\n  <thead>\n    <tr style=\"text-align: right;\">\n      <th></th>\n      <th>app_id</th>\n      <th>app_name</th>\n      <th>review_text</th>\n      <th>review_score</th>\n      <th>review_votes</th>\n    </tr>\n  </thead>\n  <tbody>\n    <tr>\n      <th>0</th>\n      <td>10</td>\n      <td>Counter-Strike</td>\n      <td>Ruined my life.</td>\n      <td>1</td>\n      <td>0</td>\n    </tr>\n    <tr>\n      <th>1</th>\n      <td>10</td>\n      <td>Counter-Strike</td>\n      <td>This will be more of a ''my experience with th...</td>\n      <td>1</td>\n      <td>1</td>\n    </tr>\n    <tr>\n      <th>2</th>\n      <td>10</td>\n      <td>Counter-Strike</td>\n      <td>This game saved my virginity.</td>\n      <td>1</td>\n      <td>0</td>\n    </tr>\n    <tr>\n      <th>3</th>\n      <td>10</td>\n      <td>Counter-Strike</td>\n      <td>• Do you like original games? • Do you like ga...</td>\n      <td>1</td>\n      <td>0</td>\n    </tr>\n    <tr>\n      <th>4</th>\n      <td>10</td>\n      <td>Counter-Strike</td>\n      <td>Easy to learn, hard to master.</td>\n      <td>1</td>\n      <td>1</td>\n    </tr>\n  </tbody>\n</table>\n</div>"
     },
     "execution_count": 2,
     "metadata": {},
     "output_type": "execute_result"
    }
   ],
   "source": [
    "review_data = pd.read_csv(\"dataset.csv\")\n",
    "review_data.head()"
   ],
   "id": "308d24dcdab4b97d"
  },
  {
   "cell_type": "code",
   "execution_count": 3,
   "metadata": {
    "collapsed": false,
    "ExecuteTime": {
     "end_time": "2023-11-30T19:53:37.636597800Z",
     "start_time": "2023-11-30T19:53:37.629204800Z"
    }
   },
   "outputs": [
    {
     "data": {
      "text/plain": "Index(['app_id', 'app_name', 'review_text', 'review_score', 'review_votes'], dtype='object')"
     },
     "execution_count": 3,
     "metadata": {},
     "output_type": "execute_result"
    }
   ],
   "source": [
    "review_data.columns"
   ],
   "id": "122d70b6e67b09c1"
  },
  {
   "cell_type": "markdown",
   "metadata": {},
   "source": [
    "### Part 1b: Importing Genre Data Using NLP to get the Genre of Each Game"
   ],
   "id": "a6f11a93d284f895"
  },
  {
   "cell_type": "code",
   "execution_count": 4,
   "metadata": {
    "ExecuteTime": {
     "end_time": "2023-11-30T19:53:48.688066900Z",
     "start_time": "2023-11-30T19:53:48.649007700Z"
    }
   },
   "outputs": [
    {
     "data": {
      "text/plain": "(9857, 2)"
     },
     "execution_count": 4,
     "metadata": {},
     "output_type": "execute_result"
    }
   ],
   "source": [
    "genre_data = pd.read_csv(\"steam_game_genre_manual_clean.csv\")\n",
    "genre_data.drop(columns=['number_of_reviews'], inplace=True)\n",
    "genre_data.drop(columns=['Unnamed--0'], inplace=True)\n",
    "genre_data.drop(columns=['review_score'], inplace=True)\n",
    "genre_data.shape"
   ],
   "id": "b2ed34f745264601"
  },
  {
   "cell_type": "code",
   "execution_count": 5,
   "outputs": [],
   "source": [
    "genre_data_cleaned = genre_data.drop_duplicates(subset=['app_name'])"
   ],
   "metadata": {
    "collapsed": false,
    "ExecuteTime": {
     "end_time": "2023-11-30T19:53:50.336912500Z",
     "start_time": "2023-11-30T19:53:50.330399400Z"
    }
   },
   "id": "96e198487fa5988e"
  },
  {
   "cell_type": "code",
   "execution_count": 6,
   "outputs": [
    {
     "data": {
      "text/plain": "(9363, 2)"
     },
     "execution_count": 6,
     "metadata": {},
     "output_type": "execute_result"
    }
   ],
   "source": [
    "genre_data_cleaned.shape"
   ],
   "metadata": {
    "collapsed": false,
    "ExecuteTime": {
     "end_time": "2023-11-30T19:53:50.729027700Z",
     "start_time": "2023-11-30T19:53:50.707223500Z"
    }
   },
   "id": "faeabc01b4cddb95"
  },
  {
   "cell_type": "markdown",
   "source": [
    "Here we can clearly see that we reduced the number of roes by 14, removing that many duplicate entries"
   ],
   "metadata": {
    "collapsed": false
   },
   "id": "7282d517a17a24be"
  },
  {
   "cell_type": "code",
   "execution_count": 7,
   "outputs": [
    {
     "data": {
      "text/plain": "                              app_name       answer\n0         Discovering Colors - Animals  Educational\n1                               Fabric       Puzzle\n2                          Trigonarium       Arcade\n3            Aveyond 3-3: The Lost Orb          RPG\n4  Aveyond 3-4: The Darkthrop Prophecy          RPG",
      "text/html": "<div>\n<style scoped>\n    .dataframe tbody tr th:only-of-type {\n        vertical-align: middle;\n    }\n\n    .dataframe tbody tr th {\n        vertical-align: top;\n    }\n\n    .dataframe thead th {\n        text-align: right;\n    }\n</style>\n<table border=\"1\" class=\"dataframe\">\n  <thead>\n    <tr style=\"text-align: right;\">\n      <th></th>\n      <th>app_name</th>\n      <th>answer</th>\n    </tr>\n  </thead>\n  <tbody>\n    <tr>\n      <th>0</th>\n      <td>Discovering Colors - Animals</td>\n      <td>Educational</td>\n    </tr>\n    <tr>\n      <th>1</th>\n      <td>Fabric</td>\n      <td>Puzzle</td>\n    </tr>\n    <tr>\n      <th>2</th>\n      <td>Trigonarium</td>\n      <td>Arcade</td>\n    </tr>\n    <tr>\n      <th>3</th>\n      <td>Aveyond 3-3: The Lost Orb</td>\n      <td>RPG</td>\n    </tr>\n    <tr>\n      <th>4</th>\n      <td>Aveyond 3-4: The Darkthrop Prophecy</td>\n      <td>RPG</td>\n    </tr>\n  </tbody>\n</table>\n</div>"
     },
     "execution_count": 7,
     "metadata": {},
     "output_type": "execute_result"
    }
   ],
   "source": [
    "genre_data_cleaned.head()"
   ],
   "metadata": {
    "collapsed": false,
    "ExecuteTime": {
     "end_time": "2023-11-30T19:53:52.670363100Z",
     "start_time": "2023-11-30T19:53:52.630527300Z"
    }
   },
   "id": "646052e9a6c1e30a"
  },
  {
   "cell_type": "markdown",
   "metadata": {},
   "source": [
    "### Exploration 1: Average Review Score by Game\n",
    "**Intro:** Group the dataset by game and calculate the average review score for each game within this dataset. Also get a count for the number of reviews for each game.\n",
    "\n",
    "**Conclusion:** TODO TDOO TDOO TDOO T"
   ],
   "id": "baf55b2fb4bf73cf"
  },
  {
   "cell_type": "code",
   "execution_count": 8,
   "metadata": {
    "ExecuteTime": {
     "end_time": "2023-11-30T19:53:54.810123Z",
     "start_time": "2023-11-30T19:53:54.101331300Z"
    }
   },
   "outputs": [
    {
     "data": {
      "text/plain": "                                       app_name  review_score  \\\n0                  Discovering Colors - Animals           1.0   \n1                                        Fabric           1.0   \n2                                   Trigonarium           1.0   \n3                     Aveyond 3-3: The Lost Orb           1.0   \n4           Aveyond 3-4: The Darkthrop Prophecy           1.0   \n...                                         ...           ...   \n9358                            Angle of Attack          -1.0   \n9359                                     Retool          -1.0   \n9360                              Ke-Tsu-No-Ana          -1.0   \n9361  3D Sprite Renderer and Convex Hull Editor          -1.0   \n9362                                Night light          -1.0   \n\n      number_of_reviews  \n0                    14  \n1                    26  \n2                   103  \n3                    27  \n4                    63  \n...                 ...  \n9358                  2  \n9359                  1  \n9360                  5  \n9361                190  \n9362                 24  \n\n[9363 rows x 3 columns]",
      "text/html": "<div>\n<style scoped>\n    .dataframe tbody tr th:only-of-type {\n        vertical-align: middle;\n    }\n\n    .dataframe tbody tr th {\n        vertical-align: top;\n    }\n\n    .dataframe thead th {\n        text-align: right;\n    }\n</style>\n<table border=\"1\" class=\"dataframe\">\n  <thead>\n    <tr style=\"text-align: right;\">\n      <th></th>\n      <th>app_name</th>\n      <th>review_score</th>\n      <th>number_of_reviews</th>\n    </tr>\n  </thead>\n  <tbody>\n    <tr>\n      <th>0</th>\n      <td>Discovering Colors - Animals</td>\n      <td>1.0</td>\n      <td>14</td>\n    </tr>\n    <tr>\n      <th>1</th>\n      <td>Fabric</td>\n      <td>1.0</td>\n      <td>26</td>\n    </tr>\n    <tr>\n      <th>2</th>\n      <td>Trigonarium</td>\n      <td>1.0</td>\n      <td>103</td>\n    </tr>\n    <tr>\n      <th>3</th>\n      <td>Aveyond 3-3: The Lost Orb</td>\n      <td>1.0</td>\n      <td>27</td>\n    </tr>\n    <tr>\n      <th>4</th>\n      <td>Aveyond 3-4: The Darkthrop Prophecy</td>\n      <td>1.0</td>\n      <td>63</td>\n    </tr>\n    <tr>\n      <th>...</th>\n      <td>...</td>\n      <td>...</td>\n      <td>...</td>\n    </tr>\n    <tr>\n      <th>9358</th>\n      <td>Angle of Attack</td>\n      <td>-1.0</td>\n      <td>2</td>\n    </tr>\n    <tr>\n      <th>9359</th>\n      <td>Retool</td>\n      <td>-1.0</td>\n      <td>1</td>\n    </tr>\n    <tr>\n      <th>9360</th>\n      <td>Ke-Tsu-No-Ana</td>\n      <td>-1.0</td>\n      <td>5</td>\n    </tr>\n    <tr>\n      <th>9361</th>\n      <td>3D Sprite Renderer and Convex Hull Editor</td>\n      <td>-1.0</td>\n      <td>190</td>\n    </tr>\n    <tr>\n      <th>9362</th>\n      <td>Night light</td>\n      <td>-1.0</td>\n      <td>24</td>\n    </tr>\n  </tbody>\n</table>\n<p>9363 rows × 3 columns</p>\n</div>"
     },
     "execution_count": 8,
     "metadata": {},
     "output_type": "execute_result"
    }
   ],
   "source": [
    "# Get the average review_score for each unique app_name\n",
    "df = review_data[['app_name', 'review_score']].groupby('app_name').mean().reset_index().sort_values(by='review_score', ascending=False).reset_index(drop=True)\n",
    "\n",
    "# Add a column called number_of_reviews to the dataframe\n",
    "df['number_of_reviews'] = review_data[['app_name', 'review_score']].groupby('app_name').count().reset_index()['review_score']\n",
    "df"
   ],
   "id": "17fa7446583036bc"
  },
  {
   "cell_type": "code",
   "execution_count": 9,
   "metadata": {
    "ExecuteTime": {
     "end_time": "2023-11-30T19:53:57.139057200Z",
     "start_time": "2023-11-30T19:53:56.853032800Z"
    }
   },
   "outputs": [
    {
     "data": {
      "text/plain": "<Figure size 2000x1000 with 1 Axes>",
      "image/png": "[encoded data removed]"
     },
     "metadata": {},
     "output_type": "display_data"
    }
   ],
   "source": [
    "# Plot a bar chart of the review_score for each app_name\n",
    "plt.figure(figsize=(20, 10))\n",
    "plt.hist(df['review_score'], bins = 75)\n",
    "plt.xticks(rotation=90)\n",
    "plt.xlabel('Review Score')\n",
    "plt.ylabel('Frequency')\n",
    "plt.title('Histogram of Review Scores')\n",
    "plt.show()"
   ],
   "id": "926060a72e00b472"
  },
  {
   "cell_type": "markdown",
   "metadata": {},
   "source": [
    "### Exploration 2: Early Access Reviews\n",
    "**Intro:** TODO TDOO TDOO TDOO T\n",
    "\n",
    "**Conclusion:** TODO TDOO TDOO TDOO T"
   ],
   "id": "14cc3bedcb67b99d"
  },
  {
   "cell_type": "code",
   "execution_count": null,
   "metadata": {},
   "outputs": [],
   "source": [
    "BEN PAULSON"
   ],
   "id": "3cec814834be19d2"
  },
  {
   "cell_type": "code",
   "execution_count": null,
   "metadata": {},
   "outputs": [],
   "source": [
    "early_access_data = review_data.apply(lambda x: True if x[''] == True else False , axis=1)"
   ],
   "id": "cea020c0ec8b557b"
  },
  {
   "cell_type": "markdown",
   "id": "fe132b57e0fe44f7",
   "metadata": {},
   "source": [
    "### Exploration 3: Term Frequency for Positive/Negative Reviews\n",
    "\n",
    "(THOMAS)"
   ]
  },
  {
   "cell_type": "markdown",
   "id": "ae71e2486301a493",
   "metadata": {},
   "source": [
    "### Using our stop word cleaning function"
   ]
  },
  {
   "cell_type": "code",
   "execution_count": 23,
   "id": "5b33e5cd975b2977",
   "metadata": {
    "ExecuteTime": {
     "end_time": "2023-11-30T05:00:38.631285400Z",
     "start_time": "2023-11-30T04:31:21.670989100Z"
    }
   },
   "outputs": [],
   "source": [
    "stopwords_list = set(stopwords.words('english'))\n",
    "\n",
    "def remove_stop_words(text, stopwords):\n",
    "    word_tokens = word_tokenize(text)\n",
    "    filtered_sentence = [w for w in word_tokens if not w in stopwords]\n",
    "    return \" \".join(filtered_sentence)\n",
    "\n",
    "review_data_no_stopwords = review_data['review_text'].apply(lambda x: remove_stop_words(str(x), stopwords_list))"
   ]
  },
  {
   "cell_type": "code",
   "execution_count": 24,
   "outputs": [
    {
     "data": {
      "text/plain": "0                                        Ruined life .\n1    This `` experience game '' type review , sayin...\n2                          This game saved virginity .\n3    • Do like original games ? • Do like games n't...\n4                           Easy learn , hard master .\nName: review_text, dtype: object"
     },
     "execution_count": 24,
     "metadata": {},
     "output_type": "execute_result"
    }
   ],
   "source": [
    "review_data_no_stopwords.head()"
   ],
   "metadata": {
    "collapsed": false,
    "ExecuteTime": {
     "end_time": "2023-11-30T05:00:38.655854400Z",
     "start_time": "2023-11-30T05:00:38.642502700Z"
    }
   },
   "id": "feb6c1045a80251f"
  },
  {
   "cell_type": "code",
   "execution_count": 25,
   "outputs": [],
   "source": [
    "review_data[\"stopwords_removed\"] = review_data_no_stopwords"
   ],
   "metadata": {
    "collapsed": false,
    "ExecuteTime": {
     "end_time": "2023-11-30T15:28:03.078974900Z",
     "start_time": "2023-11-30T15:28:03.071089600Z"
    }
   },
   "id": "68ebcec25785cc28"
  },
  {
   "cell_type": "code",
   "execution_count": 26,
   "outputs": [
    {
     "data": {
      "text/plain": "   app_id        app_name                                        review_text  \\\n0      10  Counter-Strike                                    Ruined my life.   \n1      10  Counter-Strike  This will be more of a ''my experience with th...   \n2      10  Counter-Strike                      This game saved my virginity.   \n3      10  Counter-Strike  • Do you like original games? • Do you like ga...   \n4      10  Counter-Strike           Easy to learn, hard to master.             \n\n   review_score  review_votes  \\\n0             1             0   \n1             1             1   \n2             1             0   \n3             1             0   \n4             1             1   \n\n                                   stopwords_removed  \n0                                      Ruined life .  \n1  This `` experience game '' type review , sayin...  \n2                        This game saved virginity .  \n3  • Do like original games ? • Do like games n't...  \n4                         Easy learn , hard master .  ",
      "text/html": "<div>\n<style scoped>\n    .dataframe tbody tr th:only-of-type {\n        vertical-align: middle;\n    }\n\n    .dataframe tbody tr th {\n        vertical-align: top;\n    }\n\n    .dataframe thead th {\n        text-align: right;\n    }\n</style>\n<table border=\"1\" class=\"dataframe\">\n  <thead>\n    <tr style=\"text-align: right;\">\n      <th></th>\n      <th>app_id</th>\n      <th>app_name</th>\n      <th>review_text</th>\n      <th>review_score</th>\n      <th>review_votes</th>\n      <th>stopwords_removed</th>\n    </tr>\n  </thead>\n  <tbody>\n    <tr>\n      <th>0</th>\n      <td>10</td>\n      <td>Counter-Strike</td>\n      <td>Ruined my life.</td>\n      <td>1</td>\n      <td>0</td>\n      <td>Ruined life .</td>\n    </tr>\n    <tr>\n      <th>1</th>\n      <td>10</td>\n      <td>Counter-Strike</td>\n      <td>This will be more of a ''my experience with th...</td>\n      <td>1</td>\n      <td>1</td>\n      <td>This `` experience game '' type review , sayin...</td>\n    </tr>\n    <tr>\n      <th>2</th>\n      <td>10</td>\n      <td>Counter-Strike</td>\n      <td>This game saved my virginity.</td>\n      <td>1</td>\n      <td>0</td>\n      <td>This game saved virginity .</td>\n    </tr>\n    <tr>\n      <th>3</th>\n      <td>10</td>\n      <td>Counter-Strike</td>\n      <td>• Do you like original games? • Do you like ga...</td>\n      <td>1</td>\n      <td>0</td>\n      <td>• Do like original games ? • Do like games n't...</td>\n    </tr>\n    <tr>\n      <th>4</th>\n      <td>10</td>\n      <td>Counter-Strike</td>\n      <td>Easy to learn, hard to master.</td>\n      <td>1</td>\n      <td>1</td>\n      <td>Easy learn , hard master .</td>\n    </tr>\n  </tbody>\n</table>\n</div>"
     },
     "execution_count": 26,
     "metadata": {},
     "output_type": "execute_result"
    }
   ],
   "source": [
    "review_data.head()"
   ],
   "metadata": {
    "collapsed": false,
    "ExecuteTime": {
     "end_time": "2023-11-30T15:28:10.117888900Z",
     "start_time": "2023-11-30T15:28:10.099749800Z"
    }
   },
   "id": "30c766d42540885e"
  },
  {
   "cell_type": "code",
   "execution_count": 10,
   "outputs": [],
   "source": [
    "review_data_and_genre = pd.merge(review_data, genre_data_cleaned, on='app_name')\n",
    "review_data_and_genre.rename(columns={\"answer\": \"genre\"}, inplace=True)"
   ],
   "metadata": {
    "collapsed": false,
    "ExecuteTime": {
     "end_time": "2023-11-30T19:54:09.729648400Z",
     "start_time": "2023-11-30T19:54:08.785675Z"
    }
   },
   "id": "354364653a2b034c"
  },
  {
   "cell_type": "code",
   "execution_count": 11,
   "outputs": [
    {
     "data": {
      "text/plain": "   app_id        app_name                                        review_text  \\\n0      10  Counter-Strike                                    Ruined my life.   \n1      10  Counter-Strike  This will be more of a ''my experience with th...   \n2      10  Counter-Strike                      This game saved my virginity.   \n3      10  Counter-Strike  • Do you like original games? • Do you like ga...   \n4      10  Counter-Strike           Easy to learn, hard to master.             \n\n   review_score  review_votes    genre  \n0             1             0  Shooter  \n1             1             1  Shooter  \n2             1             0  Shooter  \n3             1             0  Shooter  \n4             1             1  Shooter  ",
      "text/html": "<div>\n<style scoped>\n    .dataframe tbody tr th:only-of-type {\n        vertical-align: middle;\n    }\n\n    .dataframe tbody tr th {\n        vertical-align: top;\n    }\n\n    .dataframe thead th {\n        text-align: right;\n    }\n</style>\n<table border=\"1\" class=\"dataframe\">\n  <thead>\n    <tr style=\"text-align: right;\">\n      <th></th>\n      <th>app_id</th>\n      <th>app_name</th>\n      <th>review_text</th>\n      <th>review_score</th>\n      <th>review_votes</th>\n      <th>genre</th>\n    </tr>\n  </thead>\n  <tbody>\n    <tr>\n      <th>0</th>\n      <td>10</td>\n      <td>Counter-Strike</td>\n      <td>Ruined my life.</td>\n      <td>1</td>\n      <td>0</td>\n      <td>Shooter</td>\n    </tr>\n    <tr>\n      <th>1</th>\n      <td>10</td>\n      <td>Counter-Strike</td>\n      <td>This will be more of a ''my experience with th...</td>\n      <td>1</td>\n      <td>1</td>\n      <td>Shooter</td>\n    </tr>\n    <tr>\n      <th>2</th>\n      <td>10</td>\n      <td>Counter-Strike</td>\n      <td>This game saved my virginity.</td>\n      <td>1</td>\n      <td>0</td>\n      <td>Shooter</td>\n    </tr>\n    <tr>\n      <th>3</th>\n      <td>10</td>\n      <td>Counter-Strike</td>\n      <td>• Do you like original games? • Do you like ga...</td>\n      <td>1</td>\n      <td>0</td>\n      <td>Shooter</td>\n    </tr>\n    <tr>\n      <th>4</th>\n      <td>10</td>\n      <td>Counter-Strike</td>\n      <td>Easy to learn, hard to master.</td>\n      <td>1</td>\n      <td>1</td>\n      <td>Shooter</td>\n    </tr>\n  </tbody>\n</table>\n</div>"
     },
     "execution_count": 11,
     "metadata": {},
     "output_type": "execute_result"
    }
   ],
   "source": [
    "review_data_and_genre.head()"
   ],
   "metadata": {
    "collapsed": false,
    "ExecuteTime": {
     "end_time": "2023-11-30T19:54:10.892050300Z",
     "start_time": "2023-11-30T19:54:10.876057600Z"
    }
   },
   "id": "345969b70f56231a"
  },
  {
   "cell_type": "code",
   "execution_count": 43,
   "outputs": [],
   "source": [
    "genre_dict = defaultdict(list)\n",
    "def count_words_in_genre(genre_dict, genre, text):\n",
    "    word_tokens = word_tokenize(text)\n",
    "    for word in word_tokens:\n",
    "        genre_dict[genre].append(word)\n",
    "    return genre_dict"
   ],
   "metadata": {
    "collapsed": false,
    "ExecuteTime": {
     "end_time": "2023-11-30T16:08:24.484430Z",
     "start_time": "2023-11-30T16:08:24.468401Z"
    }
   },
   "id": "ce418a3edfa0d777"
  },
  {
   "cell_type": "code",
   "execution_count": 44,
   "outputs": [],
   "source": [
    "updated_genre_dict = review_data_and_genre.apply(lambda x: count_words_in_genre(genre_dict, x['genre'], x['stopwords_removed']), axis=1)"
   ],
   "metadata": {
    "collapsed": false,
    "ExecuteTime": {
     "end_time": "2023-11-30T16:45:21.240317400Z",
     "start_time": "2023-11-30T16:08:25.486425500Z"
    }
   },
   "id": "5aaef7dcf2158a43"
  },
  {
   "cell_type": "markdown",
   "id": "95db3d2ff0de20bb",
   "metadata": {},
   "source": [
    "### Part 1 Conclusion"
   ]
  },
  {
   "cell_type": "markdown",
   "id": "a38b462380f01372",
   "metadata": {},
   "source": [
    "# Part 2: Cleaning & Preprocessing\n"
   ]
  },
  {
   "cell_type": "markdown",
   "metadata": {},
   "source": [
    "### Part 2a: Cleaning for Supervised Learning Models"
   ],
   "id": "e9a922ef6e67fd47"
  },
  {
   "cell_type": "code",
   "execution_count": null,
   "metadata": {},
   "outputs": [],
   "source": [
    "# Cleaning \n",
    "Lucas Gral"
   ],
   "id": "e093953d5125ace0"
  },
  {
   "cell_type": "code",
   "execution_count": null,
   "metadata": {},
   "outputs": [],
   "source": [
    "# Division for x and y in preparation for sentiment analysis training"
   ],
   "id": "efa23954f20d48b4"
  },
  {
   "cell_type": "markdown",
   "metadata": {},
   "source": [
    "### Part 2b: Cleaning for Clustering"
   ],
   "id": "d094f6e9d91886ad"
  },
  {
   "cell_type": "code",
   "execution_count": null,
   "metadata": {},
   "outputs": [],
   "source": [
    "# Cleaning\n",
    "# Done already\n"
   ],
   "id": "714dc07232d17279"
  },
  {
   "cell_type": "code",
   "execution_count": null,
   "metadata": {},
   "outputs": [],
   "source": [
    "# Division for x and y in preparation for genre-classification training\n",
    "train_test_split(review_data_and_genre, test_size=0.2, random_state=42)"
   ],
   "id": "6f81b1b50f72e3f6"
  },
  {
   "cell_type": "markdown",
   "metadata": {},
   "source": [
    "# Part 3: Statistical Analysis\n",
    "For this section _________________________________________________\n",
    "\n",
    "We will utilize an alpha-value ($\\alpha$) of 0.05 for all statistical tests.\n",
    "\n",
    "**MUST CLEAR UP:** A sampling greater than 30 should be sufficient for a normal distribution, but it does not appear like we actually have a normal distribution. We should review the central limit theorm. Also, we should review the distributions we are making to ensure that we are not making any mistakes.\n",
    "\n",
    "**BEN PAULSON**"
   ],
   "id": "bc2d7befe9c72df5"
  },
  {
   "cell_type": "markdown",
   "id": "7be9c59d0ffd2f25",
   "metadata": {},
   "source": [
    "### Part 3a: Chi-Squared Independence Test for Genre & Review Score\n",
    "**Hypothesis:** (Adopt standard null hypothesis for Chi-squared test)"
   ]
  },
  {
   "cell_type": "code",
   "execution_count": null,
   "metadata": {},
   "outputs": [],
   "source": [],
   "id": "d39c52fbd611d5a9"
  },
  {
   "cell_type": "markdown",
   "metadata": {},
   "source": [
    "### Part 3b: Test of Correlation Between Review Score & Review Length\n",
    "**Hypothesis:** "
   ],
   "id": "faca0b428683fc5b"
  },
  {
   "cell_type": "code",
   "execution_count": null,
   "metadata": {},
   "outputs": [],
   "source": [],
   "id": "b496fd3008df8e10"
  },
  {
   "cell_type": "markdown",
   "metadata": {},
   "source": [
    "### Part 3c: Test of Correlation Between Review Length & Review Helpfulness\n",
    "**Hypothesis:** "
   ],
   "id": "65dfbb7c09a25b33"
  },
  {
   "cell_type": "code",
   "execution_count": null,
   "metadata": {},
   "outputs": [],
   "source": [],
   "id": "898d0851931a6b86"
  },
  {
   "cell_type": "markdown",
   "metadata": {},
   "source": [
    "# Part 4: Sentiment Analysis Experiments (Supervised Models)"
   ],
   "id": "5ae64f7bf4492fcb"
  },
  {
   "cell_type": "markdown",
   "metadata": {},
   "source": [
    "### Part 4a: KKN w/ tfidf\n",
    "Using the labels (positivity/negativity)"
   ],
   "id": "4489ae7ed75f7b54"
  },
  {
   "cell_type": "code",
   "execution_count": null,
   "metadata": {},
   "outputs": [],
   "source": [
    "LUCAS GRAL"
   ],
   "id": "9f2bb9848f5ec950"
  },
  {
   "cell_type": "markdown",
   "metadata": {},
   "source": [
    "### Part 4b: Fine-Tuning BERT\n",
    "Using the labels (positivity/negativity), a BERT model will be fine-tuned"
   ],
   "id": "67df0412639686ec"
  },
  {
   "cell_type": "code",
   "execution_count": null,
   "metadata": {},
   "outputs": [],
   "source": [
    "LUCAS GRAL"
   ],
   "id": "5ab49978cdec19ec"
  },
  {
   "cell_type": "markdown",
   "metadata": {},
   "source": [
    "# Part 5: Sentiment Analysis Experiments (Clustering)"
   ],
   "id": "3f8a66d4730294f4"
  },
  {
   "cell_type": "markdown",
   "metadata": {},
   "source": [
    "### Part 3a: K-Means Clustering\n",
    "BERT Embeddings"
   ],
   "id": "cb696ff33fe5fdac"
  },
  {
   "cell_type": "code",
   "execution_count": 12,
   "metadata": {
    "ExecuteTime": {
     "end_time": "2023-11-30T20:20:21.577956800Z",
     "start_time": "2023-11-30T20:20:03.477233100Z"
    }
   },
   "outputs": [
    {
     "name": "stderr",
     "output_type": "stream",
     "text": [
      "100%|██████████| 433/433 [00:00<?, ?B/s]\n",
      "100%|██████████| 440473133/440473133 [00:14<00:00, 30475515.92B/s]\n",
      "100%|██████████| 231508/231508 [00:00<00:00, 2062702.06B/s]\n"
     ]
    }
   ],
   "source": [
    "model = BertModel.from_pretrained('bert-base-uncased',\n",
    "                                  output_hidden_states = True,)\n",
    "tokenizer = BertTokenizer.from_pretrained('bert-base-uncased')"
   ],
   "id": "1e43a485f570ee04"
  },
  {
   "cell_type": "code",
   "execution_count": 25,
   "outputs": [],
   "source": [
    "def bert_text_preparation(text, tokenizer):\n",
    "    \"\"\"\n",
    "    Preprocesses text input in a way that BERT can interpret.\n",
    "    \"\"\"\n",
    "    marked_text = \"[CLS] \" + text + \" [SEP]\"\n",
    "    tokenized_text = tokenizer.tokenize(marked_text)\n",
    "    tokenized_text = tokenized_text[0:512]\n",
    "    indexed_tokens = tokenizer.convert_tokens_to_ids(tokenized_text)\n",
    "    segments_ids = [1]*len(indexed_tokens)\n",
    "    \n",
    "    # convert inputs to tensors\n",
    "    tokens_tensor = torch.tensor([indexed_tokens])\n",
    "    segments_tensor = torch.tensor([segments_ids])\n",
    "    \n",
    "    return tokenized_text, tokens_tensor, segments_tensor"
   ],
   "metadata": {
    "collapsed": false,
    "ExecuteTime": {
     "end_time": "2023-11-30T20:32:10.137781300Z",
     "start_time": "2023-11-30T20:32:10.120593100Z"
    }
   },
   "id": "b882f79cf8f463a7"
  },
  {
   "cell_type": "code",
   "execution_count": 26,
   "outputs": [],
   "source": [
    "def get_bert_embeddings(tokens_tensor, segments_tensor, model):\n",
    "    \"\"\"\n",
    "    Obtains BERT embeddings for tokens.\n",
    "    \"\"\"\n",
    "    # gradient calculation is disabled\n",
    "    with torch.no_grad():\n",
    "        # obtain hidden states\n",
    "        outputs = model(tokens_tensor, segments_tensor)\n",
    "        hidden_states = outputs[2]    # concatenate the tensors for all layers\n",
    "    # use \"stack\" to create new dimension in tensor\n",
    "    token_embeddings = torch.stack(hidden_states, dim=0)    # remove dimension 1, the \"batches\"\n",
    "    token_embeddings = torch.squeeze(token_embeddings, dim=1)    # swap dimensions 0 and 1 so we can loop over tokens\n",
    "    token_embeddings = token_embeddings.permute(1,0,2)    # intialized list to store embeddings\n",
    "    token_vecs_sum = []    # \"token_embeddings\" is a [Y x 12 x 768] tensor\n",
    "    # where Y is the number of tokens in the sentence    \n",
    "    # loop over tokens in sentence\n",
    "    for token in token_embeddings:    # \"token\" is a [12 x 768] tensor    \n",
    "        # sum the vectors from the last four layers\n",
    "        sum_vec = torch.sum(token[-4:], dim=0)\n",
    "        token_vecs_sum.append(sum_vec)\n",
    "        \n",
    "    return token_vecs_sum"
   ],
   "metadata": {
    "collapsed": false,
    "ExecuteTime": {
     "end_time": "2023-11-30T20:32:10.960764800Z",
     "start_time": "2023-11-30T20:32:10.951540100Z"
    }
   },
   "id": "96da6ae2a2d317df"
  },
  {
   "cell_type": "code",
   "execution_count": 29,
   "outputs": [],
   "source": [
    "from collections import OrderedDict\n",
    "\n",
    "context_embeddings = []\n",
    "context_tokens = []\n",
    "for sentence in review_data['review_text'].head(10):\n",
    "    tokenized_text, tokens_tensor, segments_tensors = bert_text_preparation(sentence, tokenizer)\n",
    "    list_token_embeddings = get_bert_embeddings(tokens_tensor, segments_tensors, model)  # make ordered dictionary to keep track of the position of each   word\n",
    "    tokens = OrderedDict()  # loop over tokens in sensitive sentence\n",
    "    \n",
    "    for token in tokenized_text[1:-1]:\n",
    "        # keep track of position of word and whether it occurs multiple times\n",
    "        if token in tokens:\n",
    "            tokens[token] += 1\n",
    "        else:\n",
    "            tokens[token] = 1  # compute the position of the current token\n",
    "        token_indices = [i for i, t in enumerate(tokenized_text) if t == token]\n",
    "        current_index = token_indices[tokens[token]-1]  # get the corresponding embedding\n",
    "        token_vec = list_token_embeddings[current_index]\n",
    "\n",
    "        # save values\n",
    "        context_tokens.append(token)\n",
    "        context_embeddings.append(token_vec)"
   ],
   "metadata": {
    "collapsed": false,
    "ExecuteTime": {
     "end_time": "2023-11-30T20:45:24.492873300Z",
     "start_time": "2023-11-30T20:44:38.497255900Z"
    }
   },
   "id": "d574144b31a1c324"
  },
  {
   "cell_type": "code",
   "execution_count": 32,
   "outputs": [],
   "source": [
    "filepath = os.path.join('')\n",
    "name = 'metadata_small.tsv'\n",
    "\n",
    "with open(os.path.join(filepath, name), 'w+') as file_metadata:\n",
    "    for i, token in enumerate(context_tokens):\n",
    "        file_metadata.write(token + '\\n')\n",
    "        name = 'embeddings_small.tsv'\n",
    "        \n",
    "        with open(os.path.join(filepath, name), 'w+') as tsvfile:\n",
    "            writer = csv.writer(tsvfile, delimiter='\\t')\n",
    "            for embedding in context_embeddings:\n",
    "                writer.writerow(embedding.numpy())"
   ],
   "metadata": {
    "collapsed": false,
    "ExecuteTime": {
     "end_time": "2023-11-30T20:53:28.652544Z",
     "start_time": "2023-11-30T20:48:20.895215900Z"
    }
   },
   "id": "c30fe35b89df8ce3"
  },
  {
   "cell_type": "markdown",
   "source": [
    "# Visualizing the embedding in TensorBoard\n",
    "https://projector.tensorflow.org/"
   ],
   "metadata": {
    "collapsed": false
   },
   "id": "d254fdfe88b8ea7b"
  },
  {
   "cell_type": "markdown",
   "metadata": {},
   "source": [
    "### Part 3b: K-Means Clustering\n",
    "Term Frequency Space"
   ],
   "id": "32f09bf53ade59a"
  },
  {
   "cell_type": "code",
   "execution_count": null,
   "metadata": {},
   "outputs": [],
   "source": [
    "THOMAS BENZSHAWEL"
   ],
   "id": "e2c36cd19439aa9c"
  },
  {
   "cell_type": "markdown",
   "metadata": {},
   "source": [
    "# Part 6: Evaluation"
   ],
   "id": "4122b1037a771ac0"
  },
  {
   "cell_type": "markdown",
   "metadata": {},
   "source": [
    "### Part 6a: Evaluating Supervised Models"
   ],
   "id": "b8c11bee38d3f413"
  },
  {
   "cell_type": "code",
   "execution_count": null,
   "metadata": {},
   "outputs": [],
   "source": [
    "LUCAS GRAL"
   ],
   "id": "95126f1f82656ae6"
  },
  {
   "cell_type": "markdown",
   "metadata": {},
   "source": [
    "### Part 6b: Evaluating Clustering Models"
   ],
   "id": "f2db7c655bd07b96"
  },
  {
   "cell_type": "code",
   "execution_count": null,
   "metadata": {},
   "outputs": [],
   "source": [
    "THOMAS BENZSHAWEL"
   ],
   "id": "ae8a98bcfa7b296f"
  },
  {
   "cell_type": "markdown",
   "metadata": {},
   "source": [
    "# Conclusion\n",
    "TODO TDOO TDODO TODO TDOO TDODO TODO TDOO TDODO TODO TDOO TDODO TODO TDOO TDODO TODO TDOO TDODO TODO TDOO TDODO TODO TDOO TDODO TODO TDOO TDODO TODO TDOO TDODO TODO TDOO TDODO TODO TDOO TDODO TODO TDOO TDODO TODO TDOO TDODO TODO TDOO TDODO TODO TDOO TDODO TODO TDOO TDODO TODO TDOO TDODO TODO TDOO TDODO TODO TDOO TDODO TODO TDOO TDODO TODO TDOO TDODO TODO TDOO TDODO TODO TDOO TDODO TODO TDOO TDODO TODO TDOO TDODO TODO TDOO TDODO TODO TDOO TDODO TODO TDOO TDODO TODO TDOO TDODO TODO TDOO TDODO TODO TDOO TDODO TODO TDOO TDODO TODO TDOO TDODO TODO TDOO TDODO TODO TDOO TDODO "
   ],
   "id": "d0dd4eff95fcd89d"
  },
  {
   "cell_type": "markdown",
   "metadata": {},
   "source": [
    "# Contribution Statement\n",
    "* **Lucas Gral:**\n",
    "* **Thomas Benzshawel:**\n",
    "* **Ben Paulson:**"
   ],
   "id": "abb7cff1ee572d9d"
  }
 ],
 "metadata": {
  "kernelspec": {
   "display_name": "Python 3 (ipykernel)",
   "language": "python",
   "name": "python3"
  },
  "language_info": {
   "codemirror_mode": {
    "name": "ipython",
    "version": 3
   },
   "file_extension": ".py",
   "mimetype": "text/x-python",
   "name": "python",
   "nbconvert_exporter": "python",
   "pygments_lexer": "ipython3",
   "version": "3.11.4"
  }
 },
 "nbformat": 4,
 "nbformat_minor": 5
}
