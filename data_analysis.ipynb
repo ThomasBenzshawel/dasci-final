{
 "cells": [
  {
   "cell_type": "markdown",
   "id": "c7183be77a5eb08a",
   "metadata": {},
   "source": [
    "# Introduction\n",
    "\n",
    "\n",
    "\n",
    "Them main dataset that will be used throughout this analysis is https://www.kaggle.com/datasets/andrewmvd/steam-reviews/code. This dataset contains 1.5 million reviews from the Steam platform. The reviews are from 2014 to 2019. The dataset contains the following columns:"
   ]
  },
  {
   "cell_type": "code",
   "execution_count": 9,
   "id": "57fcbce89b6e0b88",
   "metadata": {
    "ExecuteTime": {
     "end_time": "2023-11-07T21:55:01.131654600Z",
     "start_time": "2023-11-07T21:55:00.264265300Z"
    }
   },
   "outputs": [
    {
     "name": "stderr",
     "output_type": "stream",
     "text": [
      "[nltk_data] Downloading package stopwords to\n",
      "[nltk_data]     C:\\Users\\benzshawelt\\AppData\\Roaming\\nltk_data...\n",
      "[nltk_data]   Package stopwords is already up-to-date!\n",
      "[nltk_data] Downloading package punkt to\n",
      "[nltk_data]     C:\\Users\\benzshawelt\\AppData\\Roaming\\nltk_data...\n",
      "[nltk_data]   Unzipping tokenizers\\punkt.zip.\n"
     ]
    },
    {
     "data": {
      "text/plain": [
       "True"
      ]
     },
     "execution_count": 9,
     "metadata": {},
     "output_type": "execute_result"
    }
   ],
   "source": [
    "import pandas as pd\n",
    "from nltk.corpus import stopwords\n",
    "from nltk.tokenize import word_tokenize\n",
    "import nltk\n",
    "nltk.download('stopwords')\n",
    "nltk.download('punkt')"
   ]
  },
  {
   "cell_type": "markdown",
   "id": "3e0b557cb1565aba",
   "metadata": {},
   "source": [
    "# Part 1: Data Cleaning and Statistics"
   ]
  },
  {
   "cell_type": "markdown",
   "id": "704f82042fbf36bd",
   "metadata": {},
   "source": [
    "### Part 1a: Data Description\n",
    "Them main dataset that will be used throughout this analysis is https://www.kaggle.com/datasets/andrewmvd/steam-reviews/code. This dataset contains 1.5 million reviews from the Steam platform. The reviews are from 2014 to 2019. The dataset contains the following columns: `app_id`, `app_name`, `review_text`, `review_score`, `review_votes`.\n",
    "\n",
    "* **app_id**: Unique ID of the game\n",
    "* **app_name**: Name of the game\n",
    "* **review_text**: Text of the review\n",
    "* **review_score**: Score of the review (1 is positive, )\n"
   ]
  },
  {
   "cell_type": "code",
   "execution_count": 2,
   "id": "8be22094d5e6fbb4",
   "metadata": {
    "ExecuteTime": {
     "end_time": "2023-11-07T21:37:31.775725800Z",
     "start_time": "2023-11-07T21:37:31.327026200Z"
    }
   },
   "outputs": [
    {
     "ename": "NameError",
     "evalue": "name 'review_data' is not defined",
     "output_type": "error",
     "traceback": [
      "\u001b[1;31m---------------------------------------------------------------------------\u001b[0m",
      "\u001b[1;31mNameError\u001b[0m                                 Traceback (most recent call last)",
      "Cell \u001b[1;32mIn[2], line 1\u001b[0m\n\u001b[1;32m----> 1\u001b[0m review_data\u001b[38;5;241m.\u001b[39mcolumns\n",
      "\u001b[1;31mNameError\u001b[0m: name 'review_data' is not defined"
     ]
    }
   ],
   "source": [
    "review_data.columns"
   ]
  },
  {
   "cell_type": "code",
   "execution_count": 3,
   "id": "f4ed8339c6c61f38",
   "metadata": {
    "ExecuteTime": {
     "end_time": "2023-11-07T21:37:54.340921600Z",
     "start_time": "2023-11-07T21:37:35.940300400Z"
    }
   },
   "outputs": [
    {
     "data": {
      "text/html": [
       "<div>\n",
       "<style scoped>\n",
       "    .dataframe tbody tr th:only-of-type {\n",
       "        vertical-align: middle;\n",
       "    }\n",
       "\n",
       "    .dataframe tbody tr th {\n",
       "        vertical-align: top;\n",
       "    }\n",
       "\n",
       "    .dataframe thead th {\n",
       "        text-align: right;\n",
       "    }\n",
       "</style>\n",
       "<table border=\"1\" class=\"dataframe\">\n",
       "  <thead>\n",
       "    <tr style=\"text-align: right;\">\n",
       "      <th></th>\n",
       "      <th>app_id</th>\n",
       "      <th>app_name</th>\n",
       "      <th>review_text</th>\n",
       "      <th>review_score</th>\n",
       "      <th>review_votes</th>\n",
       "    </tr>\n",
       "  </thead>\n",
       "  <tbody>\n",
       "    <tr>\n",
       "      <th>0</th>\n",
       "      <td>10</td>\n",
       "      <td>Counter-Strike</td>\n",
       "      <td>Ruined my life.</td>\n",
       "      <td>1</td>\n",
       "      <td>0</td>\n",
       "    </tr>\n",
       "    <tr>\n",
       "      <th>1</th>\n",
       "      <td>10</td>\n",
       "      <td>Counter-Strike</td>\n",
       "      <td>This will be more of a ''my experience with th...</td>\n",
       "      <td>1</td>\n",
       "      <td>1</td>\n",
       "    </tr>\n",
       "    <tr>\n",
       "      <th>2</th>\n",
       "      <td>10</td>\n",
       "      <td>Counter-Strike</td>\n",
       "      <td>This game saved my virginity.</td>\n",
       "      <td>1</td>\n",
       "      <td>0</td>\n",
       "    </tr>\n",
       "    <tr>\n",
       "      <th>3</th>\n",
       "      <td>10</td>\n",
       "      <td>Counter-Strike</td>\n",
       "      <td>• Do you like original games? • Do you like ga...</td>\n",
       "      <td>1</td>\n",
       "      <td>0</td>\n",
       "    </tr>\n",
       "    <tr>\n",
       "      <th>4</th>\n",
       "      <td>10</td>\n",
       "      <td>Counter-Strike</td>\n",
       "      <td>Easy to learn, hard to master.</td>\n",
       "      <td>1</td>\n",
       "      <td>1</td>\n",
       "    </tr>\n",
       "  </tbody>\n",
       "</table>\n",
       "</div>"
      ],
      "text/plain": [
       "   app_id        app_name                                        review_text  \\\n",
       "0      10  Counter-Strike                                    Ruined my life.   \n",
       "1      10  Counter-Strike  This will be more of a ''my experience with th...   \n",
       "2      10  Counter-Strike                      This game saved my virginity.   \n",
       "3      10  Counter-Strike  • Do you like original games? • Do you like ga...   \n",
       "4      10  Counter-Strike           Easy to learn, hard to master.             \n",
       "\n",
       "   review_score  review_votes  \n",
       "0             1             0  \n",
       "1             1             1  \n",
       "2             1             0  \n",
       "3             1             0  \n",
       "4             1             1  "
      ]
     },
     "execution_count": 3,
     "metadata": {},
     "output_type": "execute_result"
    }
   ],
   "source": [
    "review_data = pd.read_csv(\"dataset.csv\")\n",
    "review_data.head()"
   ]
  },
  {
   "cell_type": "markdown",
   "id": "fe132b57e0fe44f7",
   "metadata": {},
   "source": [
    "### Part 1b: Data Cleaning"
   ]
  },
  {
   "cell_type": "code",
   "execution_count": null,
   "id": "499ac492085502b0",
   "metadata": {},
   "outputs": [],
   "source": [
    "# Remove games which have less than # reviews such that the game is not given a review by Steam\n",
    "\n",
    "\n",
    "\n",
    "# (Optional) Remove games which are not #% of the total number of reviews in the dataset\n",
    "# This is to include only the most popular games in the dataset for less noise\n",
    "\n",
    "\n",
    "\n",
    "# (Potential Experiment Route) Divide games by genre"
   ]
  },
  {
   "cell_type": "code",
   "execution_count": 17,
   "id": "8dafa838f56c7bfd",
   "metadata": {
    "ExecuteTime": {
     "end_time": "2023-11-07T22:05:13.270812800Z",
     "start_time": "2023-11-07T22:05:13.261714Z"
    }
   },
   "outputs": [],
   "source": [
    "def clean(string: str):\n",
    "    line = str(string).strip()\n",
    "    return bytes(line, 'utf-8').decode('utf-8', 'ignore')"
   ]
  },
  {
   "cell_type": "code",
   "execution_count": 25,
   "id": "bd95851d9f403710",
   "metadata": {
    "ExecuteTime": {
     "end_time": "2023-11-07T23:01:06.194489100Z",
     "start_time": "2023-11-07T23:01:06.184338300Z"
    }
   },
   "outputs": [],
   "source": [
    "stopwords = stopwords.words('english')\n",
    "\n",
    "def remove_stop_words(sentence, stop_words):\n",
    "    return ' '.join([word for word in sentence.split() if word not in stop_words])"
   ]
  },
  {
   "cell_type": "code",
   "execution_count": 18,
   "id": "e068217b8df26588",
   "metadata": {
    "ExecuteTime": {
     "end_time": "2023-11-07T22:05:16.250902100Z",
     "start_time": "2023-11-07T22:05:16.244406700Z"
    }
   },
   "outputs": [
    {
     "data": {
      "text/plain": [
       "0                                      Ruined my life.\n",
       "1    This will be more of a ''my experience with th...\n",
       "2                        This game saved my virginity.\n",
       "3    • Do you like original games? • Do you like ga...\n",
       "4             Easy to learn, hard to master.          \n",
       "Name: review_text, dtype: object"
      ]
     },
     "execution_count": 18,
     "metadata": {},
     "output_type": "execute_result"
    }
   ],
   "source": [
    "review_data[\"review_text\"].head()"
   ]
  },
  {
   "cell_type": "code",
   "execution_count": 20,
   "id": "a8b47ac929444695",
   "metadata": {
    "ExecuteTime": {
     "end_time": "2023-11-07T22:06:13.778213400Z",
     "start_time": "2023-11-07T22:06:03.306539600Z"
    }
   },
   "outputs": [],
   "source": [
    "test = review_data[\"review_text\"].apply(lambda x: clean(x))"
   ]
  },
  {
   "cell_type": "markdown",
   "id": "ae71e2486301a493",
   "metadata": {},
   "source": [
    "### Using our stop word cleaning function"
   ]
  },
  {
   "cell_type": "code",
   "execution_count": 26,
   "id": "5b33e5cd975b2977",
   "metadata": {
    "ExecuteTime": {
     "end_time": "2023-11-07T23:10:46.599373400Z",
     "start_time": "2023-11-07T23:01:15.336543900Z"
    }
   },
   "outputs": [],
   "source": [
    "test2 = test.apply(lambda x: remove_stop_words(x, stopwords))"
   ]
  },
  {
   "cell_type": "code",
   "execution_count": 27,
   "id": "2736e85163a89c12",
   "metadata": {
    "ExecuteTime": {
     "end_time": "2023-11-07T23:19:34.665746700Z",
     "start_time": "2023-11-07T23:19:34.624474300Z"
    }
   },
   "outputs": [
    {
     "data": {
      "text/plain": [
       "0                                         Ruined life.\n",
       "1    This ''my experience game'' type review, sayin...\n",
       "2                           This game saved virginity.\n",
       "3    • Do like original games? • Do like games lag?...\n",
       "4                             Easy learn, hard master.\n",
       "Name: review_text, dtype: object"
      ]
     },
     "execution_count": 27,
     "metadata": {},
     "output_type": "execute_result"
    }
   ],
   "source": [
    "test2.head()"
   ]
  },
  {
   "cell_type": "markdown",
   "id": "95db3d2ff0de20bb",
   "metadata": {},
   "source": [
    "### Part 1 Conclusion"
   ]
  },
  {
   "cell_type": "markdown",
   "id": "a38b462380f01372",
   "metadata": {},
   "source": [
    "# Part 2: Sentiment Analysis Experiments"
   ]
  },
  {
   "cell_type": "markdown",
   "id": "29b78bfe48444c97",
   "metadata": {},
   "source": [
    "### Part 2 Conclusion\n",
    "\n",
    "Best way to do sentiment analysis"
   ]
  },
  {
   "cell_type": "markdown",
   "id": "7be9c59d0ffd2f25",
   "metadata": {},
   "source": [
    "# Part 3: \n",
    "Using the best sentiment analysis model and using those insights to reach deeper insights about the Steam Reviews dataset"
   ]
  }
 ],
 "metadata": {
  "kernelspec": {
   "display_name": "Python 3 (ipykernel)",
   "language": "python",
   "name": "python3"
  },
  "language_info": {
   "codemirror_mode": {
    "name": "ipython",
    "version": 3
   },
   "file_extension": ".py",
   "mimetype": "text/x-python",
   "name": "python",
   "nbconvert_exporter": "python",
   "pygments_lexer": "ipython3",
   "version": "3.11.4"
  }
 },
 "nbformat": 4,
 "nbformat_minor": 5
}
