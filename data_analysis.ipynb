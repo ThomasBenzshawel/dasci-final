{
 "cells": [
  {
   "cell_type": "markdown",
   "metadata": {},
   "source": [
    "# CSC 2621 Final Project\n",
    "**Authors:**  Thomas Benzshawel, Lucas Gral, Ben Paulson<Br/>\n",
    "Section 131"
   ]
  },
  {
   "cell_type": "markdown",
   "metadata": {},
   "source": [
    "# Introduction\n",
    "\n"
   ]
  },
  {
   "cell_type": "code",
   "execution_count": 1,
   "metadata": {},
   "outputs": [],
   "source": [
    "import pandas as pd"
   ]
  },
  {
   "cell_type": "markdown",
   "metadata": {},
   "source": [
    "# Part 1: Data Cleaning and Statistics"
   ]
  },
  {
   "cell_type": "markdown",
   "metadata": {},
   "source": [
    "### Part 1a: Data Description\n",
    "The main dataset that will be used throughout this analysis is https://www.kaggle.com/datasets/andrewmvd/steam-reviews/code. This dataset contains 6.4 million reviews from the Steam platform; users are only able to review the game if they have bought and played the game. The reviews are from 2014 to 2017. The dataset contains the following columns: `app_id`, `app_name`, `review_text`, `review_score`, `review_votes`. The definition for each column is as follows:\n",
    "* **app_id**: Unique ID of the game\n",
    "* **app_name**: Name of the game being reviewed\n",
    "* **review_text**: Text of the review\n",
    "* **review_score**: Score of the review (1 is positive, -1 is negative)\n",
    "* **review_votes**: Number of votes the review received for 'helpfulness'\n",
    "\n",
    "In this dataset, there are 6,417,106 reviews, reviewing 9,363 unique games. The average review score is 0.6395, meaning the average review of these 9,363 games is a positive review. The average review vote score is 0.147, meaning the community does not identify most reviews as being helpful by at least one person. Also, the average number of characters per review is 304, with the smallest being 1 and the largest being 8,873. Also, interestingly, there are over 8,000 reviews which are single-character, with \".\" being the most popular at 4,885 reviews.\n",
    "\n",
    "In this dataset, there are 631 games with ratings of 100% based on the reviews given (which is a subset of the total reviews on Steam)\n",
    "\n",
    "The datatypes of each of the different columns is as follows:\n",
    "|id|Column|Dtype|\n",
    "|---|---|---|\n",
    " 0|app_id|int64 \n",
    " 1|app_name|object\n",
    " 2|review_text|object\n",
    " 3|review_score|int64 \n",
    " 4|review_votes|int64 \n",
    "\n",
    "**memory usage:** 244.8+ MB"
   ]
  },
  {
   "cell_type": "code",
   "execution_count": 6,
   "metadata": {},
   "outputs": [],
   "source": [
    "# Get the average review_score for each unique app_name\n",
    "df = review_data[['app_name', 'review_score']].groupby('app_name').mean().reset_index().sort_values(by='review_score', ascending=False).reset_index(drop=True)\n",
    "\n",
    "# Add a column called number_of_reviews to the dataframe\n",
    "df['number_of_reviews'] = review_data[['app_name', 'review_score']].groupby('app_name').count().reset_index()['review_score']\n",
    "df.to_csv('test.csv')"
   ]
  },
  {
   "cell_type": "code",
   "execution_count": 3,
   "metadata": {},
   "outputs": [
    {
     "data": {
      "text/html": [
       "<div>\n",
       "<style scoped>\n",
       "    .dataframe tbody tr th:only-of-type {\n",
       "        vertical-align: middle;\n",
       "    }\n",
       "\n",
       "    .dataframe tbody tr th {\n",
       "        vertical-align: top;\n",
       "    }\n",
       "\n",
       "    .dataframe thead th {\n",
       "        text-align: right;\n",
       "    }\n",
       "</style>\n",
       "<table border=\"1\" class=\"dataframe\">\n",
       "  <thead>\n",
       "    <tr style=\"text-align: right;\">\n",
       "      <th></th>\n",
       "      <th>app_id</th>\n",
       "      <th>app_name</th>\n",
       "      <th>review_text</th>\n",
       "      <th>review_score</th>\n",
       "      <th>review_votes</th>\n",
       "    </tr>\n",
       "  </thead>\n",
       "  <tbody>\n",
       "    <tr>\n",
       "      <th>0</th>\n",
       "      <td>10</td>\n",
       "      <td>Counter-Strike</td>\n",
       "      <td>Ruined my life.</td>\n",
       "      <td>1</td>\n",
       "      <td>0</td>\n",
       "    </tr>\n",
       "    <tr>\n",
       "      <th>1</th>\n",
       "      <td>10</td>\n",
       "      <td>Counter-Strike</td>\n",
       "      <td>This will be more of a ''my experience with th...</td>\n",
       "      <td>1</td>\n",
       "      <td>1</td>\n",
       "    </tr>\n",
       "    <tr>\n",
       "      <th>2</th>\n",
       "      <td>10</td>\n",
       "      <td>Counter-Strike</td>\n",
       "      <td>This game saved my virginity.</td>\n",
       "      <td>1</td>\n",
       "      <td>0</td>\n",
       "    </tr>\n",
       "    <tr>\n",
       "      <th>3</th>\n",
       "      <td>10</td>\n",
       "      <td>Counter-Strike</td>\n",
       "      <td>• Do you like original games? • Do you like ga...</td>\n",
       "      <td>1</td>\n",
       "      <td>0</td>\n",
       "    </tr>\n",
       "    <tr>\n",
       "      <th>4</th>\n",
       "      <td>10</td>\n",
       "      <td>Counter-Strike</td>\n",
       "      <td>Easy to learn, hard to master.</td>\n",
       "      <td>1</td>\n",
       "      <td>1</td>\n",
       "    </tr>\n",
       "  </tbody>\n",
       "</table>\n",
       "</div>"
      ],
      "text/plain": [
       "   app_id        app_name                                        review_text  \\\n",
       "0      10  Counter-Strike                                    Ruined my life.   \n",
       "1      10  Counter-Strike  This will be more of a ''my experience with th...   \n",
       "2      10  Counter-Strike                      This game saved my virginity.   \n",
       "3      10  Counter-Strike  • Do you like original games? • Do you like ga...   \n",
       "4      10  Counter-Strike           Easy to learn, hard to master.             \n",
       "\n",
       "   review_score  review_votes  \n",
       "0             1             0  \n",
       "1             1             1  \n",
       "2             1             0  \n",
       "3             1             0  \n",
       "4             1             1  "
      ]
     },
     "execution_count": 3,
     "metadata": {},
     "output_type": "execute_result"
    }
   ],
   "source": [
    "review_data = pd.read_csv(\"dataset.csv\")\n",
    "review_data.head()"
   ]
  },
  {
   "cell_type": "code",
   "execution_count": 5,
   "metadata": {},
   "outputs": [
    {
     "data": {
      "text/html": [
       "<div>\n",
       "<style scoped>\n",
       "    .dataframe tbody tr th:only-of-type {\n",
       "        vertical-align: middle;\n",
       "    }\n",
       "\n",
       "    .dataframe tbody tr th {\n",
       "        vertical-align: top;\n",
       "    }\n",
       "\n",
       "    .dataframe thead th {\n",
       "        text-align: right;\n",
       "    }\n",
       "</style>\n",
       "<table border=\"1\" class=\"dataframe\">\n",
       "  <thead>\n",
       "    <tr style=\"text-align: right;\">\n",
       "      <th></th>\n",
       "      <th>app_id</th>\n",
       "      <th>review_score</th>\n",
       "      <th>review_votes</th>\n",
       "    </tr>\n",
       "  </thead>\n",
       "  <tbody>\n",
       "    <tr>\n",
       "      <th>count</th>\n",
       "      <td>6.417106e+06</td>\n",
       "      <td>6.417106e+06</td>\n",
       "      <td>6.417106e+06</td>\n",
       "    </tr>\n",
       "    <tr>\n",
       "      <th>mean</th>\n",
       "      <td>2.274695e+05</td>\n",
       "      <td>6.394992e-01</td>\n",
       "      <td>1.472446e-01</td>\n",
       "    </tr>\n",
       "    <tr>\n",
       "      <th>std</th>\n",
       "      <td>1.260451e+05</td>\n",
       "      <td>7.687918e-01</td>\n",
       "      <td>3.543496e-01</td>\n",
       "    </tr>\n",
       "    <tr>\n",
       "      <th>min</th>\n",
       "      <td>1.000000e+01</td>\n",
       "      <td>-1.000000e+00</td>\n",
       "      <td>0.000000e+00</td>\n",
       "    </tr>\n",
       "    <tr>\n",
       "      <th>25%</th>\n",
       "      <td>2.018100e+05</td>\n",
       "      <td>1.000000e+00</td>\n",
       "      <td>0.000000e+00</td>\n",
       "    </tr>\n",
       "    <tr>\n",
       "      <th>50%</th>\n",
       "      <td>2.391600e+05</td>\n",
       "      <td>1.000000e+00</td>\n",
       "      <td>0.000000e+00</td>\n",
       "    </tr>\n",
       "    <tr>\n",
       "      <th>75%</th>\n",
       "      <td>3.056200e+05</td>\n",
       "      <td>1.000000e+00</td>\n",
       "      <td>0.000000e+00</td>\n",
       "    </tr>\n",
       "    <tr>\n",
       "      <th>max</th>\n",
       "      <td>5.653400e+05</td>\n",
       "      <td>1.000000e+00</td>\n",
       "      <td>1.000000e+00</td>\n",
       "    </tr>\n",
       "  </tbody>\n",
       "</table>\n",
       "</div>"
      ],
      "text/plain": [
       "             app_id  review_score  review_votes\n",
       "count  6.417106e+06  6.417106e+06  6.417106e+06\n",
       "mean   2.274695e+05  6.394992e-01  1.472446e-01\n",
       "std    1.260451e+05  7.687918e-01  3.543496e-01\n",
       "min    1.000000e+01 -1.000000e+00  0.000000e+00\n",
       "25%    2.018100e+05  1.000000e+00  0.000000e+00\n",
       "50%    2.391600e+05  1.000000e+00  0.000000e+00\n",
       "75%    3.056200e+05  1.000000e+00  0.000000e+00\n",
       "max    5.653400e+05  1.000000e+00  1.000000e+00"
      ]
     },
     "execution_count": 5,
     "metadata": {},
     "output_type": "execute_result"
    }
   ],
   "source": [
    "# Get statistics about the review_data\n",
    "review_data.describe()"
   ]
  },
  {
   "cell_type": "markdown",
   "id": "fe132b57e0fe44f7",
   "metadata": {},
   "source": [
    "### Part 1b: Data Cleaning"
   ]
  },
  {
   "cell_type": "code",
   "execution_count": null,
   "metadata": {},
   "outputs": [],
   "source": [
    "# Remove games which have less than # reviews such that the game is not given a review by Steam\n",
    "\n",
    "\n",
    "\n",
    "# (Optional) Remove games which are not #% of the total number of reviews in the dataset\n",
    "# This is to include only the most popular games in the dataset for less noise\n",
    "\n",
    "\n",
    "# (Potential Experiment Route) Divide games by genre\n",
    "\n",
    "\n",
    "# Text analysis of reviews\n",
    "\n",
    "\n",
    "# Text analysis of non-unique reviews\n",
    "# Get the number of non-unique reviews: review_data['review_text'].nunique()\n",
    "\n",
    "\n",
    "\n",
    "# Analysis on reviews which are \"Early Access Review\"\n"
   ]
  },
  {
   "cell_type": "markdown",
   "metadata": {},
   "source": [
    "### Part 1 Conclusion"
   ]
  },
  {
   "cell_type": "markdown",
   "metadata": {},
   "source": [
    "# Part 2: Sentiment Analysis Experiments"
   ]
  },
  {
   "cell_type": "markdown",
   "metadata": {},
   "source": [
    "### Part 2a: Large Language Model (LLM) Approach\n",
    "Decoder-only transformer"
   ]
  },
  {
   "cell_type": "markdown",
   "metadata": {},
   "source": [
    "### Part 2b: BERT Approach\n",
    "Use different distance metrics to compare the embeddings of the reviews"
   ]
  },
  {
   "cell_type": "markdown",
   "metadata": {},
   "source": [
    "### Part 2c: KNN Approach\n",
    "Rocchio embeddings"
   ]
  },
  {
   "cell_type": "markdown",
   "metadata": {},
   "source": [
    "### Part 2 Conclusion\n",
    "\n",
    "Identify the best wayt to do sentiment analysis on the reviews, explain why, and analyze the difference in results between the different approaches."
   ]
  },
  {
   "cell_type": "markdown",
   "metadata": {},
   "source": [
    "# Part 3: \n",
    "Using the best sentiment analysis model and using those insights to reach deeper insights about the Steam Reviews dataset"
   ]
  },
  {
   "cell_type": "markdown",
   "metadata": {},
   "source": [
    "# Part 4:\n",
    "Train a model from scratch using the knowledge we've gaiend about this data to reach some conclusion"
   ]
  }
 ],
 "metadata": {
  "kernelspec": {
   "display_name": "Python 3 (ipykernel)",
   "language": "python",
   "name": "python3"
  },
  "language_info": {
   "codemirror_mode": {
    "name": "ipython",
    "version": 3
   },
   "file_extension": ".py",
   "mimetype": "text/x-python",
   "name": "python",
   "nbconvert_exporter": "python",
   "pygments_lexer": "ipython3",
   "version": "3.11.5"
  }
 },
 "nbformat": 4,
 "nbformat_minor": 5
}
